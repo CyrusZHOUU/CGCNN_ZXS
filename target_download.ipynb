{
 "cells": [
  {
   "cell_type": "code",
   "execution_count": 9,
   "id": "8d3f8ba2",
   "metadata": {},
   "outputs": [],
   "source": [
    "from pymatgen.ext.matproj import MPRester #Pymatgen (Python Materials Genomics) is a robust, \n",
    "#open-source Python library for materials analysis."
   ]
  },
  {
   "cell_type": "code",
   "execution_count": 10,
   "id": "7ef6c864",
   "metadata": {},
   "outputs": [],
   "source": [
    "import csv #Package to read csv files"
   ]
  },
  {
   "cell_type": "code",
   "execution_count": 11,
   "id": "4eb25ce2",
   "metadata": {},
   "outputs": [],
   "source": [
    "materials_id=[] #List to store the materials project id\n",
    "with open('D:\\code_replication\\cgcnn_replication\\material-data-csv-list\\mp-ids-3402.csv') as csv_file: #Open the csv file\n",
    "    csv_reader = csv.reader(csv_file) #Read the csv file \n",
    "    for row in csv_reader: #Loop over the rows\n",
    "        materials_id.append(row[0]) #Add the material id to the list"
   ]
  },
  {
   "cell_type": "code",
   "execution_count": 12,
   "id": "4e7222c4",
   "metadata": {},
   "outputs": [
    {
     "name": "stdout",
     "output_type": "stream",
     "text": [
      "The materials ID of the first crystal is:  mp-571420\n",
      "The total number of crystals is:  3402\n"
     ]
    }
   ],
   "source": [
    "print('The materials ID of the first crystal is: ',materials_id[0])\n",
    "print('The total number of crystals is: ',len(materials_id))"
   ]
  },
  {
   "cell_type": "code",
   "execution_count": 13,
   "id": "e05689a8",
   "metadata": {},
   "outputs": [],
   "source": [
    "prop='band_gap'"
   ]
  },
  {
   "cell_type": "code",
   "execution_count": null,
   "id": "2915ca9c",
   "metadata": {},
   "outputs": [],
   "source": []
  },
  {
   "cell_type": "code",
   "execution_count": 18,
   "id": "7fd21324",
   "metadata": {},
   "outputs": [],
   "source": [
    "MAPI_KEY = \"dSyKEQTTaG1u1CMfV\"  # Materials API key\n",
    "mpr = MPRester(MAPI_KEY)  # object for connecting to MP Rest interface\n",
    "mp_id = materials_id[0]\n",
    "mp_id=mpr.get_materials_id_from_task_id(mp_id)# mp-id \n",
    "properties = [\n",
    "    prop\n",
    "]\n",
    "data = mpr.query(mp_id, properties)"
   ]
  },
  {
   "cell_type": "code",
   "execution_count": 19,
   "id": "35145080",
   "metadata": {},
   "outputs": [
    {
     "data": {
      "text/plain": [
       "{'energy': -39.72035485,\n",
       " 'energy_per_atom': -5.6743364071428575,\n",
       " 'volume': 125.97679508925354,\n",
       " 'formation_energy_per_atom': -0.6555138534693877,\n",
       " 'nsites': 7,\n",
       " 'unit_cell_formula': {'Ba': 1.0, 'Ni': 2.0, 'P': 4.0},\n",
       " 'pretty_formula': 'Ba(NiP2)2',\n",
       " 'is_hubbard': False,\n",
       " 'elements': ['Ba', 'Ni', 'P'],\n",
       " 'nelements': 3,\n",
       " 'e_above_hull': 0,\n",
       " 'hubbards': {},\n",
       " 'is_compatible': True,\n",
       " 'spacegroup': {'symprec': 0.1,\n",
       "  'source': 'spglib',\n",
       "  'symbol': 'Immm',\n",
       "  'number': 71,\n",
       "  'point_group': 'mmm',\n",
       "  'crystal_system': 'orthorhombic',\n",
       "  'hall': '-I 2 2'},\n",
       " 'task_ids': ['mp-924372',\n",
       "  'mp-923775',\n",
       "  'mp-571420',\n",
       "  'mp-908810',\n",
       "  'mp-1435939',\n",
       "  'mp-1589587',\n",
       "  'mp-1704867'],\n",
       " 'band_gap': 0.0,\n",
       " 'density': 4.990560226738552,\n",
       " 'icsd_id': None,\n",
       " 'icsd_ids': [79104],\n",
       " 'cif': \"# generated using pymatgen\\ndata_Ba(NiP2)2\\n_symmetry_space_group_name_H-M   'P 1'\\n_cell_length_a   5.48864058\\n_cell_length_b   5.48864058\\n_cell_length_c   5.48864058\\n_cell_angle_alpha   116.06147219\\n_cell_angle_beta   107.21509513\\n_cell_angle_gamma   105.34942932\\n_symmetry_Int_Tables_number   1\\n_chemical_formula_structural   Ba(NiP2)2\\n_chemical_formula_sum   'Ba1 Ni2 P4'\\n_cell_volume   125.97679509\\n_cell_formula_units_Z   1\\nloop_\\n _symmetry_equiv_pos_site_id\\n _symmetry_equiv_pos_as_xyz\\n  1  'x, y, z'\\nloop_\\n _atom_site_type_symbol\\n _atom_site_label\\n _atom_site_symmetry_multiplicity\\n _atom_site_fract_x\\n _atom_site_fract_y\\n _atom_site_fract_z\\n _atom_site_occupancy\\n  Ba  Ba0  1  0.00000000  0.00000000  0.00000000  1\\n  Ni  Ni1  1  0.50000000  0.76167200  0.26167200  1\\n  Ni  Ni2  1  0.50000000  0.23832800  0.73832800  1\\n  P  P3  1  0.75448500  0.50000000  0.25448500  1\\n  P  P4  1  0.24551500  0.50000000  0.74551500  1\\n  P  P5  1  0.76067400  0.26067400  0.50000000  1\\n  P  P6  1  0.23932600  0.73932600  0.50000000  1\\n\",\n",
       " 'total_magnetization': 3.74e-05,\n",
       " 'material_id': 'mp-571420',\n",
       " 'oxide_type': 'None',\n",
       " 'tags': ['Barium nickel phosphide (1/2/4) - beta'],\n",
       " 'elasticity': {'G_Reuss': 35.0,\n",
       "  'G_VRH': 40.0,\n",
       "  'G_Voigt': 45.0,\n",
       "  'G_Voigt_Reuss_Hill': 40.0,\n",
       "  'K_Reuss': 100.0,\n",
       "  'K_VRH': 100.0,\n",
       "  'K_Voigt': 100.0,\n",
       "  'K_Voigt_Reuss_Hill': 100.0,\n",
       "  'elastic_anisotropy': 1.45,\n",
       "  'elastic_tensor': [[123.0, 86.0, 94.0, 0.0, 0.0, 0.0],\n",
       "   [86.0, 169.0, 49.0, 0.0, 0.0, 0.0],\n",
       "   [94.0, 49.0, 151.0, 0.0, 0.0, 0.0],\n",
       "   [0.0, 0.0, 0.0, 56.0, 0.0, 0.0],\n",
       "   [0.0, 0.0, 0.0, 0.0, 59.0, 0.0],\n",
       "   [0.0, 0.0, 0.0, 0.0, 0.0, 37.0]],\n",
       "  'homogeneous_poisson': 0.33,\n",
       "  'poisson_ratio': 0.33,\n",
       "  'universal_anisotropy': 1.45,\n",
       "  'elastic_tensor_original': [[123.41770984257002,\n",
       "    64.87084965412451,\n",
       "    83.96753682623515,\n",
       "    2.4200305625721012e-05,\n",
       "    0.0,\n",
       "    0.0],\n",
       "   [107.29839935927488,\n",
       "    169.19709239605828,\n",
       "    66.43558718811619,\n",
       "    3.660001090146559e-05,\n",
       "    0.0,\n",
       "    0.0],\n",
       "   [103.80230096797837,\n",
       "    32.48902117832263,\n",
       "    150.96303530571333,\n",
       "    3.059994026598929e-05,\n",
       "    0.0,\n",
       "    0.0],\n",
       "   [0.0,\n",
       "    1.9219664878859912e-05,\n",
       "    1.7012509796813897e-05,\n",
       "    56.13886491544223,\n",
       "    0.0,\n",
       "    0.0],\n",
       "   [0.0,\n",
       "    0.0,\n",
       "    0.0,\n",
       "    4.076021713548339e-08,\n",
       "    58.64343211582424,\n",
       "    1.0038585045759274e-05],\n",
       "   [0.0,\n",
       "    0.0,\n",
       "    0.0,\n",
       "    -2.5389526124885015e-10,\n",
       "    5.641638789420904e-06,\n",
       "    37.233137048550326]],\n",
       "  'compliance_tensor': [[22.2, -8.0, -11.2, 0.0, -0.0, -0.0],\n",
       "   [-8.0, 9.4, 1.9, -0.0, 0.0, -0.0],\n",
       "   [-11.2, 1.9, 13.0, -0.0, -0.0, -0.0],\n",
       "   [0.0, -0.0, -0.0, 17.8, -0.0, -0.0],\n",
       "   [-0.0, 0.0, -0.0, -0.0, 17.1, -0.0],\n",
       "   [-0.0, -0.0, -0.0, -0.0, -0.0, 26.9]],\n",
       "  'warnings': [],\n",
       "  'nsites': 7},\n",
       " 'piezo': None,\n",
       " 'diel': None,\n",
       " 'deprecated': False,\n",
       " 'full_formula': 'Ba1Ni2P4'}"
      ]
     },
     "execution_count": 19,
     "metadata": {},
     "output_type": "execute_result"
    }
   ],
   "source": [
    "data=mpr.get_data(mp_id)\n",
    "data[0]"
   ]
  },
  {
   "cell_type": "code",
   "execution_count": 20,
   "id": "fbdaf623",
   "metadata": {},
   "outputs": [
    {
     "data": {
      "text/plain": [
       "['mp-571420', 0.0]"
      ]
     },
     "execution_count": 20,
     "metadata": {},
     "output_type": "execute_result"
    }
   ],
   "source": [
    "target=[mp_id,data[0][prop]]\n",
    "target"
   ]
  },
  {
   "cell_type": "code",
   "execution_count": 28,
   "id": "f1e1c0b1",
   "metadata": {},
   "outputs": [],
   "source": [
    "with open('D:\\code_replication\\cgcnn_replication\\id_prop.csv', 'w') as myfile:\n",
    "    wr = csv.writer(myfile)\n",
    "    wr.writerow(target)"
   ]
  },
  {
   "cell_type": "code",
   "execution_count": 29,
   "id": "d3fd2af7",
   "metadata": {},
   "outputs": [
    {
     "name": "stdout",
     "output_type": "stream",
     "text": [
      "0\n",
      "100\n",
      "200\n",
      "300\n",
      "400\n",
      "500\n",
      "600\n",
      "700\n",
      "800\n",
      "900\n",
      "1000\n",
      "1100\n",
      "1200\n",
      "1300\n",
      "1400\n",
      "1500\n",
      "1600\n",
      "1700\n",
      "1800\n",
      "1900\n",
      "2000\n",
      "2100\n",
      "2200\n",
      "2300\n",
      "2400\n",
      "2500\n",
      "2600\n",
      "2700\n",
      "2800\n",
      "2900\n",
      "3000\n",
      "3100\n",
      "3200\n",
      "3300\n",
      "3400\n"
     ]
    }
   ],
   "source": [
    "target=[]\n",
    "#Just run the cell once to create the CSV file\n",
    "for i in range(len(materials_id)):\n",
    "    mp_id_i = materials_id[i]\n",
    "    mp_id_i=mpr.get_materials_id_from_task_id(mp_id_i)\n",
    "    data_i = mpr.query(mp_id_i, properties)\n",
    "    target_i=[mp_id_i,data_i[0][prop]]\n",
    "    target.append(target_i)\n",
    "    if i%100==0:\n",
    "        print(i)"
   ]
  },
  {
   "cell_type": "code",
   "execution_count": 31,
   "id": "913a9212",
   "metadata": {},
   "outputs": [],
   "source": [
    "with open('D:\\code_replication\\cgcnn_replication\\id_prop_total_energy.csv', 'w') as myfile:\n",
    "    wr = csv.writer(myfile)\n",
    "    wr.writerows(target)"
   ]
  }
 ],
 "metadata": {
  "kernelspec": {
   "display_name": "Python 3 (ipykernel)",
   "language": "python",
   "name": "python3"
  },
  "language_info": {
   "codemirror_mode": {
    "name": "ipython",
    "version": 3
   },
   "file_extension": ".py",
   "mimetype": "text/x-python",
   "name": "python",
   "nbconvert_exporter": "python",
   "pygments_lexer": "ipython3",
   "version": "3.11.4"
  }
 },
 "nbformat": 4,
 "nbformat_minor": 5
}
